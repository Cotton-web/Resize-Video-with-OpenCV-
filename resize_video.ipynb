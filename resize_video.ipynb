{
  "nbformat": 4,
  "nbformat_minor": 0,
  "metadata": {
    "colab": {
      "provenance": [],
      "include_colab_link": true
    },
    "kernelspec": {
      "name": "python3",
      "display_name": "Python 3"
    },
    "language_info": {
      "name": "python"
    }
  },
  "cells": [
    {
      "cell_type": "markdown",
      "metadata": {
        "id": "view-in-github",
        "colab_type": "text"
      },
      "source": [
        "<a href=\"https://colab.research.google.com/github/Cotton-web/Resize-Video-with-OpenCV-/blob/main/resize_video.ipynb\" target=\"_parent\"><img src=\"https://colab.research.google.com/assets/colab-badge.svg\" alt=\"Open In Colab\"/></a>"
      ]
    },
    {
      "cell_type": "code",
      "source": [
        "import os\n",
        "import cv2\n",
        "\n",
        "video_path = os.path.join('/content/your_video.mp4')\n",
        "\n",
        "cap = cv2.VideoCapture(video_path)\n",
        "\n",
        "fps = cap.get(cv2.CAP_PROP_FPS)\n",
        "width = int(cap.get(cv2.CAP_PROP_FRAME_WIDTH))\n",
        "height = int(cap.get(cv2.CAP_PROP_FRAME_HEIGHT))\n",
        "\n",
        "resized_width = width // 2\n",
        "resized_height = height // 2\n",
        "\n",
        "resized_video_path = os.path.join('/content/resized_video.avi')\n",
        "out = cv2.VideoWriter(resized_video_path, cv2.VideoWriter_fourcc(*'XVID'), fps, (resized_width, resized_height), isColor=True)\n",
        "\n",
        "print(\"Resizing video to 50%...\")\n",
        "while True:\n",
        "    ret, frame = cap.read()\n",
        "    if not ret:\n",
        "        break\n",
        "\n",
        "    resized_frame = cv2.resize(frame, (resized_width, resized_height))\n",
        "\n",
        "    out.write(resized_frame)\n",
        "\n",
        "cap.release()\n",
        "out.release()\n",
        "\n",
        "print(f\"✅ Resized video saved at: {resized_video_path}\")"
      ],
      "metadata": {
        "colab": {
          "base_uri": "https://localhost:8080/"
        },
        "id": "cR8U8_2vkttl",
        "outputId": "0fb82387-6d16-42d3-bdc7-fc012d68de89"
      },
      "execution_count": 3,
      "outputs": [
        {
          "output_type": "stream",
          "name": "stdout",
          "text": [
            "Resizing video to 50%...\n",
            "✅ Resized video saved at: /content/resized_video.avi\n"
          ]
        }
      ]
    }
  ]
}